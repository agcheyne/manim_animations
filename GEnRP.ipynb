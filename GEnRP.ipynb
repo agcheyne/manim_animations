{
 "cells": [
  {
   "cell_type": "code",
   "execution_count": null,
   "metadata": {},
   "outputs": [],
   "source": [
    "from manim import *\n",
    "\n",
    "config.media_width = \"75%\"\n",
    "config.verbosity = \"WARNING\"\n",
    "%%manim -qm ProtonNeutronSeparation\n"
   ]
  },
  {
   "cell_type": "code",
   "execution_count": 2,
   "metadata": {},
   "outputs": [
    {
     "data": {
      "text/html": [
       "<pre style=\"white-space:pre;overflow-x:auto;line-height:normal;font-family:Menlo,'DejaVu Sans Mono',consolas,'Courier New',monospace\">Manim Community <span style=\"color: #008000; text-decoration-color: #008000\">v0.18.1</span>\n",
       "\n",
       "</pre>\n"
      ],
      "text/plain": [
       "Manim Community \u001b[32mv0.\u001b[0m\u001b[32m18.1\u001b[0m\n",
       "\n"
      ]
     },
     "metadata": {},
     "output_type": "display_data"
    },
    {
     "name": "stderr",
     "output_type": "stream",
     "text": [
      "                                                                     \r"
     ]
    },
    {
     "data": {
      "text/html": [
       "<video src=\"media/jupyter/CircleToSquare@2024-12-16@10-01-05.mp4\" controls autoplay loop style=\"max-width: 75%;\"  >\n",
       "      Your browser does not support the <code>video</code> element.\n",
       "    </video>"
      ],
      "text/plain": [
       "<IPython.core.display.Video object>"
      ]
     },
     "metadata": {},
     "output_type": "display_data"
    }
   ],
   "source": [
    "%%manim -qm CircleToSquare\n",
    "\n",
    "class CircleToSquare(Scene):\n",
    "    def construct(self):\n",
    "        blue_circle = Circle(color=BLUE, fill_opacity=0.5)\n",
    "        green_square = Square(color=GREEN, fill_opacity=0.8)\n",
    "        self.play(Create(blue_circle))\n",
    "        self.wait()\n",
    "        \n",
    "        self.play(Transform(blue_circle, green_square))\n",
    "        self.wait()"
   ]
  },
  {
   "cell_type": "code",
   "execution_count": 3,
   "metadata": {},
   "outputs": [
    {
     "data": {
      "text/html": [
       "<pre style=\"white-space:pre;overflow-x:auto;line-height:normal;font-family:Menlo,'DejaVu Sans Mono',consolas,'Courier New',monospace\">Manim Community <span style=\"color: #008000; text-decoration-color: #008000\">v0.18.1</span>\n",
       "\n",
       "</pre>\n"
      ],
      "text/plain": [
       "Manim Community \u001b[32mv0.\u001b[0m\u001b[32m18.1\u001b[0m\n",
       "\n"
      ]
     },
     "metadata": {},
     "output_type": "display_data"
    },
    {
     "name": "stderr",
     "output_type": "stream",
     "text": [
      "                                                                                       \r"
     ]
    },
    {
     "data": {
      "text/html": [
       "<video src=\"media/jupyter/ProtonNeutronSeparation@2024-12-16@10-01-07.mp4\" controls autoplay loop style=\"max-width: 75%;\"  >\n",
       "      Your browser does not support the <code>video</code> element.\n",
       "    </video>"
      ],
      "text/plain": [
       "<IPython.core.display.Video object>"
      ]
     },
     "metadata": {},
     "output_type": "display_data"
    }
   ],
   "source": [
    "%%manim -qm ProtonNeutronSeparation\n",
    "\n",
    "from manim import *\n",
    "import numpy as np\n",
    "\n",
    "class ProtonNeutronSeparation(Scene):\n",
    "    def construct(self):\n",
    "        # Define angles\n",
    "        electron_angle = 41.9 * DEGREES\n",
    "        hadron_angle = -24.7 * DEGREES\n",
    "\n",
    "        target = Circle(radius=0.3, color=BLUE).move_to(ORIGIN)\n",
    "        target_label = Text(\"LD2 Target\", font_size=24).next_to(target, DOWN)\n",
    "\n",
    "        beam_line = Line([-4, 0, 0], [0, 0, 0], color=YELLOW)\n",
    "        beam_label = Text(\"e⁻ beam\", font_size=24).next_to(beam_line, UP)\n",
    "\n",
    "        # BigBite setup\n",
    "        bb_distance = 3\n",
    "        bb_magnet_pos = [bb_distance * 0.5 * np.cos(electron_angle), bb_distance * 0.5 * np.sin(electron_angle), 0]\n",
    "        bb_pos = [bb_distance * 0.6 * np.cos(electron_angle), bb_distance * 0.6 * np.sin(electron_angle), 0]\n",
    "        \n",
    "        bigbite = Rectangle(height=1, width=0.3, color=GREEN).move_to(bb_pos)\n",
    "        bb_magnet = Rectangle(height=0.8, width=0.4, color=RED).move_to(bb_magnet_pos)\n",
    "        bb_label = Text(\"BigBite\", font_size=24).next_to(bb_magnet, RIGHT)\n",
    "\n",
    "        # Create HCal (higher position)\n",
    "        hcal_distance = 4\n",
    "        hcal_shift = 0.6  # Keep HCal shifted up\n",
    "        hcal_height = 3  # Store height for reference\n",
    "        \n",
    "        # Center position of HCal\n",
    "        hcal_center = [hcal_distance * np.cos(hadron_angle), \n",
    "                      hcal_distance * np.sin(hadron_angle) + hcal_shift, \n",
    "                      0]\n",
    "        \n",
    "        # Calculate hit point (3/4 down from top of HCal)\n",
    "        hit_point = [\n",
    "            hcal_center[0],\n",
    "            hcal_center[1] - hcal_height * 0.2,  # Adjust this factor to move hit point\n",
    "            0\n",
    "        ]\n",
    "        \n",
    "        # Create HCal rectangle centered at hcal_center\n",
    "        hcal = Rectangle(height=hcal_height, width=0.3, color=GREEN).move_to(hcal_center)\n",
    "        hcal_label = Text(\"HCal\", font_size=24).next_to(hcal, DOWN)\n",
    "        hcal_pos = [hcal_distance * np.cos(hadron_angle), \n",
    "                   hcal_distance * np.sin(hadron_angle) + hcal_shift, \n",
    "                   0]\n",
    "        hcal = Rectangle(height=2, width=1, color=GREEN).move_to(hcal_pos)\n",
    "        hcal_label = Text(\"HCal\", font_size=24).next_to(hcal, DOWN)\n",
    "\n",
    "        # Create SBS magnet\n",
    "        sbs_distance = 2\n",
    "        sbs_pos = [sbs_distance * np.cos(hadron_angle), sbs_distance * np.sin(hadron_angle), 0]\n",
    "        sbs = Rectangle(height=1, width=0.5, color=RED).move_to(sbs_pos)\n",
    "        sbs_label = Text(\"SBS\", font_size=24).next_to(sbs, DOWN, buff=0.2)\n",
    "\n",
    "        # Initial setup\n",
    "        self.play(\n",
    "            Create(beam_line),\n",
    "            Write(beam_label),\n",
    "            Create(target),\n",
    "            Write(target_label),\n",
    "            Create(bigbite),\n",
    "            Create(bb_magnet),\n",
    "            Write(bb_label),\n",
    "            Create(sbs),\n",
    "            Write(sbs_label),\n",
    "            Create(hcal),\n",
    "            Write(hcal_label)\n",
    "        )\n",
    "        self.wait(1)\n",
    "\n",
    "        # Electron path\n",
    "        electron = Dot(color=YELLOW).move_to(ORIGIN)\n",
    "        e_path = CubicBezier(\n",
    "            start_anchor=ORIGIN,\n",
    "            start_handle=[bb_magnet_pos[0] * 0.5, bb_magnet_pos[1] * 0.5, 0],\n",
    "            end_handle=[bb_pos[0] + 0.1, bb_pos[1] + 0.1, 0],\n",
    "            end_anchor=bb_pos,\n",
    "            color=YELLOW\n",
    "        )\n",
    "        \n",
    "        self.play(\n",
    "            MoveAlongPath(electron, e_path),\n",
    "            Create(e_path.copy().set_stroke(opacity=0.5)),\n",
    "            run_time=2\n",
    "        )\n",
    "        self.wait(1)\n",
    "\n",
    "        # Expected hadron path with dotted line (now to hit_point)\n",
    "        expected_path = DashedLine(\n",
    "            start=ORIGIN,\n",
    "            end=hit_point,\n",
    "            color=WHITE,\n",
    "            dash_length=0.1\n",
    "        )\n",
    "        \n",
    "        self.play(Create(expected_path))\n",
    "        self.wait(10)\n",
    "        self.play(FadeOut(expected_path))\n",
    "\n",
    "        # Neutron following expected path\n",
    "        neutron = Dot(color=BLUE).move_to(ORIGIN)\n",
    "        n_path = Line(ORIGIN, hit_point, color=BLUE)\n",
    "        \n",
    "        self.play(\n",
    "            MoveAlongPath(neutron, n_path),\n",
    "            Create(n_path.copy().set_stroke(opacity=0.5)),\n",
    "            run_time=2\n",
    "        )\n",
    "        neutron_label = Text(\"Neutron\", font_size=20, color=BLUE).next_to(neutron, RIGHT, buff=0.5)\n",
    "        self.play(FadeIn(neutron_label))\n",
    "        self.wait(5)\n",
    "\n",
    "        # self.play(\n",
    "        #     FadeOut(neutron),\n",
    "        #     FadeOut(neutron_label),\n",
    "        #     FadeOut(n_path)\n",
    "        # )\n",
    "\n",
    "        # Proton path\n",
    "        proton = Dot(color=RED).move_to(ORIGIN)\n",
    "        # Proton path - update to use hit_point for initial trajectory\n",
    "         # Proton path - update to use hit_point for initial trajectory\n",
    "        def get_point(t):\n",
    "            # Get point on original straight path to new hit point\n",
    "            straight_x = t * hit_point[0]\n",
    "            straight_y = t * hit_point[1]\n",
    "\n",
    "            # Rest of deflection logic remains the same\n",
    "            deflection_start = 0.35\n",
    "            deflection_end = 0.55\n",
    "            max_deflection = 0.12\n",
    "\n",
    "            if t <= deflection_start:\n",
    "                return np.array([straight_x, straight_y, 0])\n",
    "            elif t <= deflection_end:\n",
    "                progress = (t - deflection_start) / (deflection_end - deflection_start)\n",
    "                deflection = max_deflection * (progress * progress)\n",
    "                return np.array([straight_x, straight_y + deflection, 0])\n",
    "            else:\n",
    "                end_deflection = max_deflection\n",
    "                direction = np.array([1, end_deflection * 0.5, 0])\n",
    "                direction = direction / np.linalg.norm(direction)\n",
    "                \n",
    "                curve_end = np.array([\n",
    "                    deflection_end * hit_point[0],\n",
    "                    deflection_end * hit_point[1] + end_deflection,\n",
    "                    0\n",
    "                ])\n",
    "                \n",
    "                progress = (t - deflection_end) / (1 - deflection_end)\n",
    "                return curve_end + direction * progress * (hit_point[0] - curve_end[0])\n",
    "\n",
    "        points = [get_point(t) for t in np.linspace(0, 1, 100)]\n",
    "        proton_path = VMobject(color=RED)\n",
    "        proton_path.set_points_smoothly(points)\n",
    "        \n",
    "        self.play(\n",
    "            MoveAlongPath(proton, proton_path),\n",
    "            Create(proton_path.copy().set_stroke(opacity=0.5)),\n",
    "            run_time=2\n",
    "        )\n",
    "        \n",
    "        proton_label = Text(\"Proton\", font_size=20, color=RED).next_to(proton, RIGHT, buff=0.5)\n",
    "        self.play(FadeIn(proton_label))\n",
    "        self.wait(5)\n",
    "        \n",
    "        # Delta position indicator\n",
    "        delta_line = DashedLine(\n",
    "            start=hit_point,\n",
    "            end=proton.get_center(),\n",
    "            color=YELLOW\n",
    "        )\n",
    "        delta_label = Text(\"ΔPosition\", font_size=20, color=YELLOW).next_to(delta_line, RIGHT, buff=0.5)\n",
    "        \n",
    "        self.play(\n",
    "            Create(delta_line),\n",
    "            Write(delta_label)\n",
    "        )\n",
    "        \n",
    "        self.wait(10)"
   ]
  },
  {
   "cell_type": "code",
   "execution_count": 4,
   "metadata": {},
   "outputs": [
    {
     "data": {
      "text/html": [
       "<pre style=\"white-space:pre;overflow-x:auto;line-height:normal;font-family:Menlo,'DejaVu Sans Mono',consolas,'Courier New',monospace\">Manim Community <span style=\"color: #008000; text-decoration-color: #008000\">v0.18.1</span>\n",
       "\n",
       "</pre>\n"
      ],
      "text/plain": [
       "Manim Community \u001b[32mv0.\u001b[0m\u001b[32m18.1\u001b[0m\n",
       "\n"
      ]
     },
     "metadata": {},
     "output_type": "display_data"
    },
    {
     "name": "stderr",
     "output_type": "stream",
     "text": [
      "                                                                                                        \r"
     ]
    },
    {
     "data": {
      "text/html": [
       "<video src=\"media/jupyter/ProtonNeutronSeparationWithPlot@2024-12-16@10-01-10.mp4\" controls autoplay loop style=\"max-width: 75%;\"  >\n",
       "      Your browser does not support the <code>video</code> element.\n",
       "    </video>"
      ],
      "text/plain": [
       "<IPython.core.display.Video object>"
      ]
     },
     "metadata": {},
     "output_type": "display_data"
    }
   ],
   "source": [
    "%%manim -qm ProtonNeutronSeparationWithPlot\n",
    "\n",
    "from manim import *\n",
    "import numpy as np\n",
    "\n",
    "class ProtonNeutronSeparationWithPlot(Scene):\n",
    "    def construct(self):\n",
    "        # Scale factor for the left side animation\n",
    "        scale_factor = 0.7\n",
    "        left_shift = -3\n",
    "        \n",
    "         # Create grid on the right with switched x and y ranges\n",
    "        grid = NumberPlane(\n",
    "            x_range=[-2, 2, 0.5],    # Now horizontal (y)\n",
    "            y_range=[-2, 4, 0.5],    # Now vertical (x)\n",
    "            x_length=4,              # Horizontal extent\n",
    "            y_length=6,              # Vertical extent\n",
    "            background_line_style={\n",
    "                \"stroke_color\": BLUE_D,\n",
    "                \"stroke_width\": 1,\n",
    "                \"stroke_opacity\": 0.2\n",
    "            },\n",
    "            axis_config={\n",
    "                \"stroke_opacity\": 0.1,\n",
    "                \"include_numbers\": False,\n",
    "                \"include_ticks\": False\n",
    "            }\n",
    "        ).move_to([2, 0, 0])\n",
    "\n",
    "        # Add labels with switched positions\n",
    "        y_label = Text(\"Y (actual - predicted)\", font_size=20).next_to(grid, DOWN)  # Now on bottom\n",
    "        x_label = Text(\"X (actual - predicted)\", font_size=20).rotate(90 * DEGREES).next_to(grid, LEFT)  # Now on left\n",
    "        \n",
    "        plot_title = Text(\"HCal Position Differences\", font_size=24).next_to(grid, UP)\n",
    "        \n",
    "        # Add neutron and proton points (switched coordinates)\n",
    "        neutron_dot = Dot(grid.c2p(0, 0), color=BLUE)  # At origin (no difference)\n",
    "        proton_dot = Dot(grid.c2p(0, 2), color=RED)  # Only x-deflection (now vertical)\n",
    "        \n",
    "        # Add plot elements\n",
    "        self.play(\n",
    "            Create(grid),\n",
    "            Write(x_label),\n",
    "            Write(y_label),\n",
    "            Write(plot_title)\n",
    "        )\n",
    "        \n",
    "        # Add points with labels\n",
    "        neutron_plot_label = Text(\"Neutron\", font_size=24, color=BLUE).next_to(neutron_dot, RIGHT)\n",
    "        proton_plot_label = Text(\"Proton\", font_size=24, color=RED).next_to(proton_dot, RIGHT)\n",
    "        \n",
    "        self.play(\n",
    "            Create(neutron_dot),\n",
    "            Write(neutron_plot_label),\n",
    "        )\n",
    "        self.play(\n",
    "            Create(proton_dot),\n",
    "            Write(proton_plot_label),\n",
    "        )\n",
    "        \n",
    "        self.wait(2)"
   ]
  },
  {
   "cell_type": "code",
   "execution_count": 5,
   "metadata": {},
   "outputs": [
    {
     "data": {
      "text/html": [
       "<pre style=\"white-space:pre;overflow-x:auto;line-height:normal;font-family:Menlo,'DejaVu Sans Mono',consolas,'Courier New',monospace\">Manim Community <span style=\"color: #008000; text-decoration-color: #008000\">v0.18.1</span>\n",
       "\n",
       "</pre>\n"
      ],
      "text/plain": [
       "Manim Community \u001b[32mv0.\u001b[0m\u001b[32m18.1\u001b[0m\n",
       "\n"
      ]
     },
     "metadata": {},
     "output_type": "display_data"
    },
    {
     "name": "stderr",
     "output_type": "stream",
     "text": [
      "                                                                                              \r"
     ]
    },
    {
     "data": {
      "text/html": [
       "<video src=\"media/jupyter/ProtonNeutronSeparationWithPlot@2024-12-16@10-01-56.mp4\" controls autoplay loop style=\"max-width: 75%;\"  >\n",
       "      Your browser does not support the <code>video</code> element.\n",
       "    </video>"
      ],
      "text/plain": [
       "<IPython.core.display.Video object>"
      ]
     },
     "metadata": {},
     "output_type": "display_data"
    }
   ],
   "source": [
    "%%manim -qm ProtonNeutronSeparationWithPlot\n",
    "from manim import *\n",
    "import numpy as np\n",
    "\n",
    "class ProtonNeutronSeparationWithPlot(Scene):\n",
    "    def construct(self):\n",
    "        # Scale factor for the left side animation\n",
    "        scale_factor = 0.7\n",
    "        left_shift = -3\n",
    "        \n",
    "        # Create grid on the right with switched x and y ranges\n",
    "        grid = NumberPlane(\n",
    "            x_range=[-2, 2, 0.5],    # Now horizontal (y)\n",
    "            y_range=[-2, 4, 0.5],    # Now vertical (x)\n",
    "            x_length=4,              # Horizontal extent\n",
    "            y_length=6,              # Vertical extent\n",
    "            background_line_style={\n",
    "                \"stroke_color\": BLUE_D,\n",
    "                \"stroke_width\": 1,\n",
    "                \"stroke_opacity\": 0.2\n",
    "            },\n",
    "            axis_config={\n",
    "                \"stroke_opacity\": 0.1,\n",
    "                \"include_numbers\": False,\n",
    "                \"include_ticks\": False\n",
    "            }\n",
    "        ).move_to([2, 0, 0])\n",
    "\n",
    "        # Add labels with switched positions\n",
    "        y_label = Text(\"Y (actual - predicted)\", font_size=20).next_to(grid, DOWN)\n",
    "        x_label = Text(\"X (actual - predicted)\", font_size=20).rotate(90 * DEGREES).next_to(grid, LEFT)\n",
    "        plot_title = Text(\"HCal Position Differences\", font_size=24).next_to(grid, UP)\n",
    "        \n",
    "        # Add initial points\n",
    "        neutron_dot = Dot(grid.c2p(0, 0), color=BLUE)\n",
    "        proton_dot = Dot(grid.c2p(0, 2), color=RED)\n",
    "        \n",
    "        # Add plot elements\n",
    "        self.play(\n",
    "            Create(grid),\n",
    "            Write(x_label),\n",
    "            Write(y_label),\n",
    "            Write(plot_title),\n",
    "            run_time=0.2\n",
    "        )\n",
    "        \n",
    "        # Add initial points with labels\n",
    "        neutron_plot_label = Text(\"Neutron\", font_size=24, color=BLUE).next_to(neutron_dot, RIGHT)\n",
    "        proton_plot_label = Text(\"Proton\", font_size=24, color=RED).next_to(proton_dot, RIGHT)\n",
    "        \n",
    "        self.play(\n",
    "            Create(neutron_dot),\n",
    "            Write(neutron_plot_label),\n",
    "        )\n",
    "        self.play(\n",
    "            Create(proton_dot),\n",
    "            Write(proton_plot_label),\n",
    "        )\n",
    "\n",
    "        self.wait(2)\n",
    "\n",
    "\n",
    "        self.play(\n",
    "            FadeOut(neutron_dot),\n",
    "            FadeOut(neutron_plot_label),\n",
    "            FadeOut(proton_dot),\n",
    "            FadeOut(proton_plot_label)\n",
    "        )\n",
    "        \n",
    "        # Generate and add Gaussian distributed points\n",
    "        n_points_p = 5\n",
    "        n_points_n = 2  # number of points per batch\n",
    "        n_batches = 100   # number of batches to add\n",
    "        \n",
    "        # Parameters for the distributions\n",
    "        neutron_mean = [0, 0]\n",
    "        proton_mean = [0, 2]\n",
    "        neutron_cov = [[0.08, 0], [0, 0.08]]  # tighter distribution for neutrons\n",
    "        proton_cov = [[0.11, 0], [0, 0.11]]  # slightly wider distribution for protons\n",
    "        \n",
    "        for batch in range(n_batches):\n",
    "            # Generate neutron points\n",
    "            neutron_points = np.random.multivariate_normal(neutron_mean, neutron_cov, n_points_n)\n",
    "            neutron_dots = VGroup(*[\n",
    "                Dot(grid.c2p(x, y), color=BLUE, radius=0.03)\n",
    "                for x, y in neutron_points\n",
    "            ])\n",
    "            \n",
    "            # Generate proton points\n",
    "            proton_points = np.random.multivariate_normal(proton_mean, proton_cov, n_points_p)\n",
    "            proton_dots = VGroup(*[\n",
    "                Dot(grid.c2p(x, y), color=RED, radius=0.03)\n",
    "                for x, y in proton_points\n",
    "            ])\n",
    "            \n",
    "            # Add points with a nice fade-in animation\n",
    "            self.play(\n",
    "                AnimationGroup(\n",
    "                    *[FadeIn(dot, run_time=0.1) for dot in neutron_dots],\n",
    "                    *[FadeIn(dot, run_time=0.1) for dot in proton_dots],\n",
    "                    lag_ratio=0.02\n",
    "                )\n",
    "            )\n",
    "        \n",
    "        self.wait(2)"
   ]
  }
 ],
 "metadata": {
  "kernelspec": {
   "display_name": "my-manim-environment",
   "language": "python",
   "name": "python3"
  },
  "language_info": {
   "codemirror_mode": {
    "name": "ipython",
    "version": 3
   },
   "file_extension": ".py",
   "mimetype": "text/x-python",
   "name": "python",
   "nbconvert_exporter": "python",
   "pygments_lexer": "ipython3",
   "version": "3.10.16"
  }
 },
 "nbformat": 4,
 "nbformat_minor": 2
}
