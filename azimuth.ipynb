{
 "cells": [
  {
   "cell_type": "code",
   "execution_count": 28,
   "metadata": {},
   "outputs": [],
   "source": [
    "import numpy as np\n",
    "from manim import *\n",
    "import random\n",
    "\n",
    "\n",
    "config.media_width = \"75%\"\n",
    "config.verbosity = \"WARNING\""
   ]
  },
  {
   "cell_type": "code",
   "execution_count": null,
   "metadata": {},
   "outputs": [
    {
     "data": {
      "text/html": [
       "<pre style=\"white-space:pre;overflow-x:auto;line-height:normal;font-family:Menlo,'DejaVu Sans Mono',consolas,'Courier New',monospace\">Manim Community <span style=\"color: #008000; text-decoration-color: #008000\">v0.18.1</span>\n",
       "\n",
       "</pre>\n"
      ],
      "text/plain": [
       "Manim Community \u001b[32mv0.\u001b[0m\u001b[32m18.1\u001b[0m\n",
       "\n"
      ]
     },
     "metadata": {},
     "output_type": "display_data"
    },
    {
     "ename": "TypeError",
     "evalue": "Mobject.__init__() got an unexpected keyword argument 'size'",
     "output_type": "error",
     "traceback": [
      "\u001b[1;31m---------------------------------------------------------------------------\u001b[0m",
      "\u001b[1;31mTypeError\u001b[0m                                 Traceback (most recent call last)",
      "Cell \u001b[1;32mIn[9], line 1\u001b[0m\n\u001b[1;32m----> 1\u001b[0m \u001b[43mget_ipython\u001b[49m\u001b[43m(\u001b[49m\u001b[43m)\u001b[49m\u001b[38;5;241;43m.\u001b[39;49m\u001b[43mrun_cell_magic\u001b[49m\u001b[43m(\u001b[49m\u001b[38;5;124;43m'\u001b[39;49m\u001b[38;5;124;43mmanim\u001b[39;49m\u001b[38;5;124;43m'\u001b[39;49m\u001b[43m,\u001b[49m\u001b[43m \u001b[49m\u001b[38;5;124;43m'\u001b[39;49m\u001b[38;5;124;43m-qm ScatteringPart\u001b[39;49m\u001b[38;5;124;43m'\u001b[39;49m\u001b[43m,\u001b[49m\u001b[43m \u001b[49m\u001b[38;5;124;43m'\u001b[39;49m\u001b[38;5;130;43;01m\\n\u001b[39;49;00m\u001b[38;5;130;43;01m\\n\u001b[39;49;00m\u001b[38;5;124;43m# First animation: 3D scattering visualization\u001b[39;49m\u001b[38;5;130;43;01m\\n\u001b[39;49;00m\u001b[38;5;124;43mclass ScatteringPart(ThreeDScene):\u001b[39;49m\u001b[38;5;130;43;01m\\n\u001b[39;49;00m\u001b[38;5;124;43m    def construct(self):\u001b[39;49m\u001b[38;5;130;43;01m\\n\u001b[39;49;00m\u001b[38;5;124;43m        # Camera setup\u001b[39;49m\u001b[38;5;130;43;01m\\n\u001b[39;49;00m\u001b[38;5;124;43m        self.set_camera_orientation(phi=75 * DEGREES, theta=-70 * DEGREES)\u001b[39;49m\u001b[38;5;130;43;01m\\n\u001b[39;49;00m\u001b[38;5;124;43m        \u001b[39;49m\u001b[38;5;130;43;01m\\n\u001b[39;49;00m\u001b[38;5;124;43m        # Create the steel analyzer\u001b[39;49m\u001b[38;5;130;43;01m\\n\u001b[39;49;00m\u001b[38;5;124;43m        analyzer = Prism(\u001b[39;49m\u001b[38;5;130;43;01m\\n\u001b[39;49;00m\u001b[38;5;124;43m            dimensions=[0.5, 2, 2],\u001b[39;49m\u001b[38;5;130;43;01m\\n\u001b[39;49;00m\u001b[38;5;124;43m            fill_color=GREY,\u001b[39;49m\u001b[38;5;130;43;01m\\n\u001b[39;49;00m\u001b[38;5;124;43m            fill_opacity=0.3,\u001b[39;49m\u001b[38;5;130;43;01m\\n\u001b[39;49;00m\u001b[38;5;124;43m            stroke_width=1\u001b[39;49m\u001b[38;5;130;43;01m\\n\u001b[39;49;00m\u001b[38;5;124;43m        )\u001b[39;49m\u001b[38;5;130;43;01m\\n\u001b[39;49;00m\u001b[38;5;124;43m        self.add(analyzer)\u001b[39;49m\u001b[38;5;130;43;01m\\n\u001b[39;49;00m\u001b[38;5;124;43m        \u001b[39;49m\u001b[38;5;130;43;01m\\n\u001b[39;49;00m\u001b[38;5;124;43m        # Create tracking dot\u001b[39;49m\u001b[38;5;130;43;01m\\n\u001b[39;49;00m\u001b[38;5;124;43m        tracking_dot = Point(color=YELLOW, size=2)\u001b[39;49m\u001b[38;5;130;43;01m\\n\u001b[39;49;00m\u001b[38;5;124;43m        t = ValueTracker(-PI)\u001b[39;49m\u001b[38;5;130;43;01m\\n\u001b[39;49;00m\u001b[38;5;124;43m        \u001b[39;49m\u001b[38;5;130;43;01m\\n\u001b[39;49;00m\u001b[38;5;124;43m        def update_dot(dot):\u001b[39;49m\u001b[38;5;130;43;01m\\n\u001b[39;49;00m\u001b[38;5;124;43m            angle = t.get_value()\u001b[39;49m\u001b[38;5;130;43;01m\\n\u001b[39;49;00m\u001b[38;5;124;43m            dot.move_to([2.5, 0.7 * np.cos(angle), 0.7 * np.sin(angle)])\u001b[39;49m\u001b[38;5;130;43;01m\\n\u001b[39;49;00m\u001b[38;5;124;43m            return dot\u001b[39;49m\u001b[38;5;130;43;01m\\n\u001b[39;49;00m\u001b[38;5;124;43m            \u001b[39;49m\u001b[38;5;130;43;01m\\n\u001b[39;49;00m\u001b[38;5;124;43m        tracking_dot.add_updater(update_dot)\u001b[39;49m\u001b[38;5;130;43;01m\\n\u001b[39;49;00m\u001b[38;5;124;43m        \u001b[39;49m\u001b[38;5;130;43;01m\\n\u001b[39;49;00m\u001b[38;5;124;43m        # Create fan and cone\u001b[39;49m\u001b[38;5;130;43;01m\\n\u001b[39;49;00m\u001b[38;5;124;43m        incoming_line = DashedLine([-3, 0, 0], [0, 0, 0], color=GREY_C)\u001b[39;49m\u001b[38;5;130;43;01m\\n\u001b[39;49;00m\u001b[38;5;124;43m        reference_line = DashedLine([0, 0, 0], [2.5, 0, 0], color=RED_A)\u001b[39;49m\u001b[38;5;130;43;01m\\n\u001b[39;49;00m\u001b[38;5;124;43m        \u001b[39;49m\u001b[38;5;130;43;01m\\n\u001b[39;49;00m\u001b[38;5;124;43m        def create_enhanced_fan():\u001b[39;49m\u001b[38;5;130;43;01m\\n\u001b[39;49;00m\u001b[38;5;124;43m            fan = VGroup()\u001b[39;49m\u001b[38;5;130;43;01m\\n\u001b[39;49;00m\u001b[38;5;124;43m            n_lines = 35\u001b[39;49m\u001b[38;5;130;43;01m\\n\u001b[39;49;00m\u001b[38;5;124;43m            \u001b[39;49m\u001b[38;5;130;43;01m\\n\u001b[39;49;00m\u001b[38;5;124;43m            for i in range(n_lines):\u001b[39;49m\u001b[38;5;130;43;01m\\n\u001b[39;49;00m\u001b[38;5;124;43m                phi = i * 2 * PI / n_lines + np.random.uniform(-0.1, 0.1)\u001b[39;49m\u001b[38;5;130;43;01m\\n\u001b[39;49;00m\u001b[38;5;124;43m                angle = np.random.uniform(5, 17) * DEGREES\u001b[39;49m\u001b[38;5;130;43;01m\\n\u001b[39;49;00m\u001b[38;5;124;43m                distance = np.random.uniform(2.2, 2.5)\u001b[39;49m\u001b[38;5;130;43;01m\\n\u001b[39;49;00m\u001b[38;5;124;43m                end_radius = distance * np.tan(angle)\u001b[39;49m\u001b[38;5;130;43;01m\\n\u001b[39;49;00m\u001b[38;5;124;43m                \u001b[39;49m\u001b[38;5;130;43;01m\\n\u001b[39;49;00m\u001b[38;5;124;43m                line = Line(\u001b[39;49m\u001b[38;5;130;43;01m\\n\u001b[39;49;00m\u001b[38;5;124;43m                    [0, 0, 0],\u001b[39;49m\u001b[38;5;130;43;01m\\n\u001b[39;49;00m\u001b[38;5;124;43m                    [distance, end_radius * np.cos(phi), end_radius * np.sin(phi)],\u001b[39;49m\u001b[38;5;130;43;01m\\n\u001b[39;49;00m\u001b[38;5;124;43m                    stroke_width=2,\u001b[39;49m\u001b[38;5;130;43;01m\\n\u001b[39;49;00m\u001b[38;5;124;43m                    color=BLUE\u001b[39;49m\u001b[38;5;130;43;01m\\n\u001b[39;49;00m\u001b[38;5;124;43m                ).set_opacity(0.4)\u001b[39;49m\u001b[38;5;130;43;01m\\n\u001b[39;49;00m\u001b[38;5;124;43m                fan.add(line)\u001b[39;49m\u001b[38;5;130;43;01m\\n\u001b[39;49;00m\u001b[38;5;124;43m            \u001b[39;49m\u001b[38;5;130;43;01m\\n\u001b[39;49;00m\u001b[38;5;124;43m            for _ in range(15):\u001b[39;49m\u001b[38;5;130;43;01m\\n\u001b[39;49;00m\u001b[38;5;124;43m                phi = np.random.uniform(0, 2*PI)\u001b[39;49m\u001b[38;5;130;43;01m\\n\u001b[39;49;00m\u001b[38;5;124;43m                angle = np.random.uniform(3, 18) * DEGREES\u001b[39;49m\u001b[38;5;130;43;01m\\n\u001b[39;49;00m\u001b[38;5;124;43m                distance = np.random.uniform(1.5, 2.5)\u001b[39;49m\u001b[38;5;130;43;01m\\n\u001b[39;49;00m\u001b[38;5;124;43m                end_radius = distance * np.tan(angle)\u001b[39;49m\u001b[38;5;130;43;01m\\n\u001b[39;49;00m\u001b[38;5;124;43m                \u001b[39;49m\u001b[38;5;130;43;01m\\n\u001b[39;49;00m\u001b[38;5;124;43m                line = Line(\u001b[39;49m\u001b[38;5;130;43;01m\\n\u001b[39;49;00m\u001b[38;5;124;43m                    [0, 0, 0],\u001b[39;49m\u001b[38;5;130;43;01m\\n\u001b[39;49;00m\u001b[38;5;124;43m                    [distance, end_radius * np.cos(phi), end_radius * np.sin(phi)],\u001b[39;49m\u001b[38;5;130;43;01m\\n\u001b[39;49;00m\u001b[38;5;124;43m                    stroke_width=2,\u001b[39;49m\u001b[38;5;130;43;01m\\n\u001b[39;49;00m\u001b[38;5;124;43m                    color=BLUE_D\u001b[39;49m\u001b[38;5;130;43;01m\\n\u001b[39;49;00m\u001b[38;5;124;43m                ).set_opacity(0.3)\u001b[39;49m\u001b[38;5;130;43;01m\\n\u001b[39;49;00m\u001b[38;5;124;43m                fan.add(line)\u001b[39;49m\u001b[38;5;130;43;01m\\n\u001b[39;49;00m\u001b[38;5;124;43m            \u001b[39;49m\u001b[38;5;130;43;01m\\n\u001b[39;49;00m\u001b[38;5;124;43m            return fan\u001b[39;49m\u001b[38;5;130;43;01m\\n\u001b[39;49;00m\u001b[38;5;130;43;01m\\n\u001b[39;49;00m\u001b[38;5;124;43m        fan = create_enhanced_fan()\u001b[39;49m\u001b[38;5;130;43;01m\\n\u001b[39;49;00m\u001b[38;5;124;43m        cone = Cone(\u001b[39;49m\u001b[38;5;130;43;01m\\n\u001b[39;49;00m\u001b[38;5;124;43m            direction=[-1, 0, 0],\u001b[39;49m\u001b[38;5;130;43;01m\\n\u001b[39;49;00m\u001b[38;5;124;43m            height=2.5,\u001b[39;49m\u001b[38;5;130;43;01m\\n\u001b[39;49;00m\u001b[38;5;124;43m            base_radius=0.7,    \u001b[39;49m\u001b[38;5;130;43;01m\\n\u001b[39;49;00m\u001b[38;5;124;43m            color=BLUE\u001b[39;49m\u001b[38;5;130;43;01m\\n\u001b[39;49;00m\u001b[38;5;124;43m        ).set_opacity(0.5)\u001b[39;49m\u001b[38;5;130;43;01m\\n\u001b[39;49;00m\u001b[38;5;124;43m        \u001b[39;49m\u001b[38;5;130;43;01m\\n\u001b[39;49;00m\u001b[38;5;124;43m        # Create animations\u001b[39;49m\u001b[38;5;130;43;01m\\n\u001b[39;49;00m\u001b[38;5;124;43m        self.begin_ambient_camera_rotation(rate=0.2)\u001b[39;49m\u001b[38;5;130;43;01m\\n\u001b[39;49;00m\u001b[38;5;124;43m        \u001b[39;49m\u001b[38;5;130;43;01m\\n\u001b[39;49;00m\u001b[38;5;124;43m        # Show distribution\u001b[39;49m\u001b[38;5;130;43;01m\\n\u001b[39;49;00m\u001b[38;5;124;43m        self.play(\u001b[39;49m\u001b[38;5;130;43;01m\\n\u001b[39;49;00m\u001b[38;5;124;43m            Create(incoming_line),\u001b[39;49m\u001b[38;5;130;43;01m\\n\u001b[39;49;00m\u001b[38;5;124;43m            Create(fan, lag_ratio=0.01),\u001b[39;49m\u001b[38;5;130;43;01m\\n\u001b[39;49;00m\u001b[38;5;124;43m            Create(reference_line),\u001b[39;49m\u001b[38;5;130;43;01m\\n\u001b[39;49;00m\u001b[38;5;124;43m            run_time=1.5\u001b[39;49m\u001b[38;5;130;43;01m\\n\u001b[39;49;00m\u001b[38;5;124;43m        )\u001b[39;49m\u001b[38;5;130;43;01m\\n\u001b[39;49;00m\u001b[38;5;124;43m        self.play(Create(cone))\u001b[39;49m\u001b[38;5;130;43;01m\\n\u001b[39;49;00m\u001b[38;5;124;43m        self.wait(1)\u001b[39;49m\u001b[38;5;130;43;01m\\n\u001b[39;49;00m\u001b[38;5;124;43m        \u001b[39;49m\u001b[38;5;130;43;01m\\n\u001b[39;49;00m\u001b[38;5;124;43m        # Stop rotation\u001b[39;49m\u001b[38;5;130;43;01m\\n\u001b[39;49;00m\u001b[38;5;124;43m        self.stop_ambient_camera_rotation()\u001b[39;49m\u001b[38;5;130;43;01m\\n\u001b[39;49;00m\u001b[38;5;124;43m        \u001b[39;49m\u001b[38;5;130;43;01m\\n\u001b[39;49;00m\u001b[38;5;124;43m        # Add tracking dot\u001b[39;49m\u001b[38;5;130;43;01m\\n\u001b[39;49;00m\u001b[38;5;124;43m        self.add(tracking_dot)\u001b[39;49m\u001b[38;5;130;43;01m\\n\u001b[39;49;00m\u001b[38;5;124;43m        self.play(\u001b[39;49m\u001b[38;5;130;43;01m\\n\u001b[39;49;00m\u001b[38;5;124;43m            t.animate.set_value(PI),\u001b[39;49m\u001b[38;5;130;43;01m\\n\u001b[39;49;00m\u001b[38;5;124;43m            run_time=3,\u001b[39;49m\u001b[38;5;130;43;01m\\n\u001b[39;49;00m\u001b[38;5;124;43m            rate_func=linear\u001b[39;49m\u001b[38;5;130;43;01m\\n\u001b[39;49;00m\u001b[38;5;124;43m        )\u001b[39;49m\u001b[38;5;130;43;01m\\n\u001b[39;49;00m\u001b[38;5;124;43m        \u001b[39;49m\u001b[38;5;130;43;01m\\n\u001b[39;49;00m\u001b[38;5;124;43m        self.wait()\u001b[39;49m\u001b[38;5;130;43;01m\\n\u001b[39;49;00m\u001b[38;5;130;43;01m\\n\u001b[39;49;00m\u001b[38;5;124;43m'\u001b[39;49m\u001b[43m)\u001b[49m\n",
      "File \u001b[1;32m~\\AppData\\Local\\Packages\\PythonSoftwareFoundation.Python.3.12_qbz5n2kfra8p0\\LocalCache\\local-packages\\Python312\\site-packages\\IPython\\core\\interactiveshell.py:2541\u001b[0m, in \u001b[0;36mInteractiveShell.run_cell_magic\u001b[1;34m(self, magic_name, line, cell)\u001b[0m\n\u001b[0;32m   2539\u001b[0m \u001b[38;5;28;01mwith\u001b[39;00m \u001b[38;5;28mself\u001b[39m\u001b[38;5;241m.\u001b[39mbuiltin_trap:\n\u001b[0;32m   2540\u001b[0m     args \u001b[38;5;241m=\u001b[39m (magic_arg_s, cell)\n\u001b[1;32m-> 2541\u001b[0m     result \u001b[38;5;241m=\u001b[39m \u001b[43mfn\u001b[49m\u001b[43m(\u001b[49m\u001b[38;5;241;43m*\u001b[39;49m\u001b[43margs\u001b[49m\u001b[43m,\u001b[49m\u001b[43m \u001b[49m\u001b[38;5;241;43m*\u001b[39;49m\u001b[38;5;241;43m*\u001b[39;49m\u001b[43mkwargs\u001b[49m\u001b[43m)\u001b[49m\n\u001b[0;32m   2543\u001b[0m \u001b[38;5;66;03m# The code below prevents the output from being displayed\u001b[39;00m\n\u001b[0;32m   2544\u001b[0m \u001b[38;5;66;03m# when using magics with decorator @output_can_be_silenced\u001b[39;00m\n\u001b[0;32m   2545\u001b[0m \u001b[38;5;66;03m# when the last Python token in the expression is a ';'.\u001b[39;00m\n\u001b[0;32m   2546\u001b[0m \u001b[38;5;28;01mif\u001b[39;00m \u001b[38;5;28mgetattr\u001b[39m(fn, magic\u001b[38;5;241m.\u001b[39mMAGIC_OUTPUT_CAN_BE_SILENCED, \u001b[38;5;28;01mFalse\u001b[39;00m):\n",
      "File \u001b[1;32m~\\AppData\\Local\\Packages\\PythonSoftwareFoundation.Python.3.12_qbz5n2kfra8p0\\LocalCache\\local-packages\\Python312\\site-packages\\manim\\utils\\ipython_magic.py:143\u001b[0m, in \u001b[0;36mManimMagic.manim\u001b[1;34m(self, line, cell, local_ns)\u001b[0m\n\u001b[0;32m    141\u001b[0m     SceneClass \u001b[38;5;241m=\u001b[39m local_ns[config[\u001b[38;5;124m\"\u001b[39m\u001b[38;5;124mscene_names\u001b[39m\u001b[38;5;124m\"\u001b[39m][\u001b[38;5;241m0\u001b[39m]]\n\u001b[0;32m    142\u001b[0m     scene \u001b[38;5;241m=\u001b[39m SceneClass(renderer\u001b[38;5;241m=\u001b[39mrenderer)\n\u001b[1;32m--> 143\u001b[0m     \u001b[43mscene\u001b[49m\u001b[38;5;241;43m.\u001b[39;49m\u001b[43mrender\u001b[49m\u001b[43m(\u001b[49m\u001b[43m)\u001b[49m\n\u001b[0;32m    144\u001b[0m \u001b[38;5;28;01mfinally\u001b[39;00m:\n\u001b[0;32m    145\u001b[0m     \u001b[38;5;66;03m# Shader cache becomes invalid as the context is destroyed\u001b[39;00m\n\u001b[0;32m    146\u001b[0m     shader_program_cache\u001b[38;5;241m.\u001b[39mclear()\n",
      "File \u001b[1;32m~\\AppData\\Local\\Packages\\PythonSoftwareFoundation.Python.3.12_qbz5n2kfra8p0\\LocalCache\\local-packages\\Python312\\site-packages\\manim\\scene\\scene.py:229\u001b[0m, in \u001b[0;36mScene.render\u001b[1;34m(self, preview)\u001b[0m\n\u001b[0;32m    227\u001b[0m \u001b[38;5;28mself\u001b[39m\u001b[38;5;241m.\u001b[39msetup()\n\u001b[0;32m    228\u001b[0m \u001b[38;5;28;01mtry\u001b[39;00m:\n\u001b[1;32m--> 229\u001b[0m     \u001b[38;5;28;43mself\u001b[39;49m\u001b[38;5;241;43m.\u001b[39;49m\u001b[43mconstruct\u001b[49m\u001b[43m(\u001b[49m\u001b[43m)\u001b[49m\n\u001b[0;32m    230\u001b[0m \u001b[38;5;28;01mexcept\u001b[39;00m EndSceneEarlyException:\n\u001b[0;32m    231\u001b[0m     \u001b[38;5;28;01mpass\u001b[39;00m\n",
      "File \u001b[1;32m<string>:19\u001b[0m, in \u001b[0;36mconstruct\u001b[1;34m(self)\u001b[0m\n",
      "File \u001b[1;32m~\\AppData\\Local\\Packages\\PythonSoftwareFoundation.Python.3.12_qbz5n2kfra8p0\\LocalCache\\local-packages\\Python312\\site-packages\\manim\\mobject\\types\\point_cloud_mobject.py:376\u001b[0m, in \u001b[0;36mPoint.__init__\u001b[1;34m(self, location, color, **kwargs)\u001b[0m\n\u001b[0;32m    374\u001b[0m \u001b[38;5;28;01mdef\u001b[39;00m \u001b[38;5;21m__init__\u001b[39m(\u001b[38;5;28mself\u001b[39m, location\u001b[38;5;241m=\u001b[39mORIGIN, color\u001b[38;5;241m=\u001b[39mBLACK, \u001b[38;5;241m*\u001b[39m\u001b[38;5;241m*\u001b[39mkwargs):\n\u001b[0;32m    375\u001b[0m     \u001b[38;5;28mself\u001b[39m\u001b[38;5;241m.\u001b[39mlocation \u001b[38;5;241m=\u001b[39m location\n\u001b[1;32m--> 376\u001b[0m     \u001b[38;5;28;43msuper\u001b[39;49m\u001b[43m(\u001b[49m\u001b[43m)\u001b[49m\u001b[38;5;241;43m.\u001b[39;49m\u001b[38;5;21;43m__init__\u001b[39;49m\u001b[43m(\u001b[49m\u001b[43mcolor\u001b[49m\u001b[38;5;241;43m=\u001b[39;49m\u001b[43mcolor\u001b[49m\u001b[43m,\u001b[49m\u001b[43m \u001b[49m\u001b[38;5;241;43m*\u001b[39;49m\u001b[38;5;241;43m*\u001b[39;49m\u001b[43mkwargs\u001b[49m\u001b[43m)\u001b[49m\n",
      "File \u001b[1;32m~\\AppData\\Local\\Packages\\PythonSoftwareFoundation.Python.3.12_qbz5n2kfra8p0\\LocalCache\\local-packages\\Python312\\site-packages\\manim\\mobject\\types\\point_cloud_mobject.py:60\u001b[0m, in \u001b[0;36mPMobject.__init__\u001b[1;34m(self, stroke_width, **kwargs)\u001b[0m\n\u001b[0;32m     58\u001b[0m \u001b[38;5;28;01mdef\u001b[39;00m \u001b[38;5;21m__init__\u001b[39m(\u001b[38;5;28mself\u001b[39m, stroke_width\u001b[38;5;241m=\u001b[39mDEFAULT_STROKE_WIDTH, \u001b[38;5;241m*\u001b[39m\u001b[38;5;241m*\u001b[39mkwargs):\n\u001b[0;32m     59\u001b[0m     \u001b[38;5;28mself\u001b[39m\u001b[38;5;241m.\u001b[39mstroke_width \u001b[38;5;241m=\u001b[39m stroke_width\n\u001b[1;32m---> 60\u001b[0m     \u001b[38;5;28;43msuper\u001b[39;49m\u001b[43m(\u001b[49m\u001b[43m)\u001b[49m\u001b[38;5;241;43m.\u001b[39;49m\u001b[38;5;21;43m__init__\u001b[39;49m\u001b[43m(\u001b[49m\u001b[38;5;241;43m*\u001b[39;49m\u001b[38;5;241;43m*\u001b[39;49m\u001b[43mkwargs\u001b[49m\u001b[43m)\u001b[49m\n",
      "\u001b[1;31mTypeError\u001b[0m: Mobject.__init__() got an unexpected keyword argument 'size'"
     ]
    }
   ],
   "source": [
    "%%manim -qm ScatteringPart\n",
    "\n",
    "\n",
    "# First animation: 3D scattering visualization\n",
    "class ScatteringPart(ThreeDScene):\n",
    "    def construct(self):\n",
    "        # Camera setup\n",
    "        self.set_camera_orientation(phi=75 * DEGREES, theta=-70 * DEGREES)\n",
    "        \n",
    "        # Create the steel analyzer\n",
    "        analyzer = Prism(\n",
    "            dimensions=[0.5, 2, 2],\n",
    "            fill_color=GREY,\n",
    "            fill_opacity=0.3,\n",
    "            stroke_width=1\n",
    "        )\n",
    "        self.add(analyzer)\n",
    "        \n",
    "        # Create tracking dot\n",
    "        tracking_dot = Point(color=YELLOW)\n",
    "        t = ValueTracker(-PI)\n",
    "        \n",
    "        def update_dot(dot):\n",
    "            angle = t.get_value()\n",
    "            dot.move_to([2.5, 0.7 * np.cos(angle), 0.7 * np.sin(angle)])\n",
    "            return dot\n",
    "            \n",
    "        tracking_dot.add_updater(update_dot)\n",
    "        \n",
    "        # Create fan and cone\n",
    "        incoming_line = DashedLine([-3, 0, 0], [0, 0, 0], color=GREY_C)\n",
    "        reference_line = DashedLine([0, 0, 0], [2.5, 0, 0], color=RED_A)\n",
    "        \n",
    "        def create_enhanced_fan():\n",
    "            fan = VGroup()\n",
    "            n_lines = 35\n",
    "            \n",
    "            for i in range(n_lines):\n",
    "                phi = i * 2 * PI / n_lines + np.random.uniform(-0.1, 0.1)\n",
    "                angle = np.random.uniform(5, 17) * DEGREES\n",
    "                distance = np.random.uniform(2.2, 2.5)\n",
    "                end_radius = distance * np.tan(angle)\n",
    "                \n",
    "                line = Line(\n",
    "                    [0, 0, 0],\n",
    "                    [distance, end_radius * np.cos(phi), end_radius * np.sin(phi)],\n",
    "                    stroke_width=2,\n",
    "                    color=BLUE\n",
    "                ).set_opacity(0.4)\n",
    "                fan.add(line)\n",
    "            \n",
    "            for _ in range(15):\n",
    "                phi = np.random.uniform(0, 2*PI)\n",
    "                angle = np.random.uniform(3, 18) * DEGREES\n",
    "                distance = np.random.uniform(1.5, 2.5)\n",
    "                end_radius = distance * np.tan(angle)\n",
    "                \n",
    "                line = Line(\n",
    "                    [0, 0, 0],\n",
    "                    [distance, end_radius * np.cos(phi), end_radius * np.sin(phi)],\n",
    "                    stroke_width=2,\n",
    "                    color=BLUE_D\n",
    "                ).set_opacity(0.3)\n",
    "                fan.add(line)\n",
    "            \n",
    "            return fan\n",
    "\n",
    "        fan = create_enhanced_fan()\n",
    "        cone = Cone(\n",
    "            direction=[-1, 0, 0],\n",
    "            height=2.5,\n",
    "            base_radius=0.7,    \n",
    "            color=BLUE\n",
    "        ).set_opacity(0.5)\n",
    "        \n",
    "        # Create animations\n",
    "        self.begin_ambient_camera_rotation(rate=0.2)\n",
    "        \n",
    "        # Show distribution\n",
    "        self.play(\n",
    "            Create(incoming_line),\n",
    "            Create(fan, lag_ratio=0.01),\n",
    "            Create(reference_line),\n",
    "            run_time=1.5\n",
    "        )\n",
    "        self.play(Create(cone))\n",
    "        self.wait(1)\n",
    "        \n",
    "        # Stop rotation\n",
    "        self.stop_ambient_camera_rotation()\n",
    "        \n",
    "        # Add tracking dot\n",
    "        self.add(tracking_dot)\n",
    "        self.play(\n",
    "            t.animate.set_value(PI),\n",
    "            run_time=3,\n",
    "            rate_func=linear\n",
    "        )\n",
    "        \n",
    "        self.wait()\n",
    "\n"
   ]
  },
  {
   "cell_type": "code",
   "execution_count": 19,
   "metadata": {},
   "outputs": [
    {
     "name": "stderr",
     "output_type": "stream",
     "text": [
      "<string>:16: SyntaxWarning: invalid escape sequence '\\p'\n"
     ]
    },
    {
     "data": {
      "text/html": [
       "<pre style=\"white-space:pre;overflow-x:auto;line-height:normal;font-family:Menlo,'DejaVu Sans Mono',consolas,'Courier New',monospace\">Manim Community <span style=\"color: #008000; text-decoration-color: #008000\">v0.18.1</span>\n",
       "\n",
       "</pre>\n"
      ],
      "text/plain": [
       "Manim Community \u001b[32mv0.\u001b[0m\u001b[32m18.1\u001b[0m\n",
       "\n"
      ]
     },
     "metadata": {},
     "output_type": "display_data"
    },
    {
     "name": "stderr",
     "output_type": "stream",
     "text": [
      "                                                                                                 \r"
     ]
    },
    {
     "data": {
      "text/html": [
       "<video src=\"media\\jupyter\\ScatterPlot@2024-12-12@18-47-31.mp4\" controls autoplay loop style=\"max-width: 75%;\"  >\n",
       "      Your browser does not support the <code>video</code> element.\n",
       "    </video>"
      ],
      "text/plain": [
       "<IPython.core.display.Video object>"
      ]
     },
     "metadata": {},
     "output_type": "display_data"
    }
   ],
   "source": [
    "%%manim -qm ScatterPlot\n",
    "\n",
    "\n",
    "class ScatterPlot(Scene):\n",
    "    def construct(self):\n",
    "        # Create the axes\n",
    "        axes = Axes(\n",
    "            x_range=[-PI, PI, PI / 2],\n",
    "            y_range=[0, 10, 2],\n",
    "            x_length=8,\n",
    "            y_length=5,\n",
    "            axis_config={\"include_tip\": False},\n",
    "            tips=False\n",
    "        ).add_coordinates()\n",
    "\n",
    "        # Add axis labels\n",
    "        x_label = axes.get_x_axis_label(\"\\phi (radians)\", edge=DOWN, direction=DOWN)\n",
    "        y_label = axes.get_y_axis_label(\"Count\", edge=LEFT, direction=LEFT)\n",
    "\n",
    "        # Number of bins and uniform distribution generation\n",
    "        num_bins = 36  # 10 degrees each bin\n",
    "        bin_width = 2 * PI / num_bins\n",
    "        points_per_bin = 10\n",
    "\n",
    "        # Generate points for uniform distribution\n",
    "        points = []\n",
    "        for i in range(num_bins):\n",
    "            phi_bin_center = -PI + (i + 0.5) * bin_width\n",
    "            for _ in range(points_per_bin):\n",
    "                phi = np.random.uniform(phi_bin_center - bin_width / 2, phi_bin_center + bin_width / 2)\n",
    "                y = np.random.uniform(0, 9)  # Spread in y-axis for aesthetics\n",
    "                points.append([phi, y])\n",
    "\n",
    "        # Sort points for smooth animation appearance\n",
    "        points.sort(key=lambda x: x[0])\n",
    "\n",
    "        # Create dots\n",
    "        dots = VGroup()\n",
    "        for point in points:\n",
    "            dot = Dot(\n",
    "                axes.c2p(point[0], point[1]),\n",
    "                radius=0.05,\n",
    "                color=BLUE\n",
    "            )\n",
    "            dots.add(dot)\n",
    "\n",
    "        # Add the axes and labels first\n",
    "        self.add(axes, x_label, y_label)\n",
    "\n",
    "        # Create scatter plot with staggered appearance\n",
    "        self.play(\n",
    "            Create(dots, lag_ratio=0.03),  # Sequential appearance with small delay\n",
    "            run_time=4,\n",
    "            rate_func=linear\n",
    "        )\n",
    "\n",
    "        self.wait(2)\n"
   ]
  },
  {
   "cell_type": "code",
   "execution_count": 36,
   "metadata": {},
   "outputs": [
    {
     "name": "stderr",
     "output_type": "stream",
     "text": [
      "<string>:17: SyntaxWarning: invalid escape sequence '\\p'\n",
      "<string>:19: SyntaxWarning: invalid escape sequence '\\p'\n",
      "<string>:24: SyntaxWarning: invalid escape sequence '\\p'\n"
     ]
    },
    {
     "data": {
      "text/html": [
       "<pre style=\"white-space:pre;overflow-x:auto;line-height:normal;font-family:Menlo,'DejaVu Sans Mono',consolas,'Courier New',monospace\">Manim Community <span style=\"color: #008000; text-decoration-color: #008000\">v0.18.1</span>\n",
       "\n",
       "</pre>\n"
      ],
      "text/plain": [
       "Manim Community \u001b[32mv0.\u001b[0m\u001b[32m18.1\u001b[0m\n",
       "\n"
      ]
     },
     "metadata": {},
     "output_type": "display_data"
    },
    {
     "name": "stderr",
     "output_type": "stream",
     "text": [
      "                                                                                                 \r"
     ]
    },
    {
     "data": {
      "text/html": [
       "<video src=\"media\\jupyter\\ScatterPlot@2024-12-12@19-12-17.mp4\" controls autoplay loop style=\"max-width: 75%;\"  >\n",
       "      Your browser does not support the <code>video</code> element.\n",
       "    </video>"
      ],
      "text/plain": [
       "<IPython.core.display.Video object>"
      ]
     },
     "metadata": {},
     "output_type": "display_data"
    }
   ],
   "source": [
    "%%manim -qm ScatterPlot\n",
    "\n",
    "\n",
    "class ScatterPlot(Scene):\n",
    "    def construct(self):\n",
    "        # Create the axes\n",
    "        axes = Axes(\n",
    "            x_range=[-PI, PI, PI / 2],\n",
    "            y_range=[0, 10, 2],\n",
    "            x_length=8,\n",
    "            y_length=5,\n",
    "            axis_config={\"include_tip\": False},\n",
    "            tips=False\n",
    "        )\n",
    "\n",
    "        # Add custom labels for x-axis\n",
    "        axes.get_x_axis().add_labels({\n",
    "            -PI: MathTex(\"-\\pi\"),\n",
    "            # 0: MathTex(\"Azimuthal angle, \\phi (rad)\"),\n",
    "            PI: MathTex(\"\\pi\")\n",
    "        })\n",
    "\n",
    "        # Add y-axis label at the top\n",
    "        y_label = axes.get_y_axis_label(\"Count\", edge=UP, direction=UP)\n",
    "        x_label = axes.get_x_axis_label(\"\\phi (radians)\", edge=DOWN, direction=DOWN)\n",
    "\n",
    "\n",
    "        # Number of bins and uniform distribution generation\n",
    "        num_bins = 20  # 10 degrees each bin\n",
    "        bin_width = 2 * PI / num_bins\n",
    "\n",
    "        # Generate points for bin counts\n",
    "        points = []\n",
    "        for i in range(num_bins):\n",
    "            phi_bin_center = -PI + (i + 0.5) * bin_width\n",
    "            count = random.uniform(8.2,9.4)  # random generation of uniform\n",
    "            points.append([phi_bin_center, count])\n",
    "\n",
    "        # Create dots\n",
    "        dots = VGroup()\n",
    "        for point in points:\n",
    "            dot = Dot(\n",
    "                axes.c2p(point[0], point[1]),\n",
    "                radius=0.05,\n",
    "                color=BLUE\n",
    "            )\n",
    "            dots.add(dot)\n",
    "\n",
    "        # Add the axes and labels first\n",
    "        self.add(axes, y_label, x_label)\n",
    "\n",
    "        # Create scatter plot with staggered appearance\n",
    "        self.play(\n",
    "            Create(dots),  # Sequential appearance with small delay\n",
    "            run_time=4,\n",
    "            rate_func=linear\n",
    "        )\n",
    "\n",
    "        self.wait(2)\n"
   ]
  },
  {
   "cell_type": "code",
   "execution_count": 40,
   "metadata": {},
   "outputs": [
    {
     "name": "stderr",
     "output_type": "stream",
     "text": [
      "<string>:17: SyntaxWarning: invalid escape sequence '\\p'\n",
      "<string>:19: SyntaxWarning: invalid escape sequence '\\p'\n",
      "<string>:24: SyntaxWarning: invalid escape sequence '\\p'\n"
     ]
    },
    {
     "data": {
      "text/html": [
       "<pre style=\"white-space:pre;overflow-x:auto;line-height:normal;font-family:Menlo,'DejaVu Sans Mono',consolas,'Courier New',monospace\">Manim Community <span style=\"color: #008000; text-decoration-color: #008000\">v0.18.1</span>\n",
       "\n",
       "</pre>\n"
      ],
      "text/plain": [
       "Manim Community \u001b[32mv0.\u001b[0m\u001b[32m18.1\u001b[0m\n",
       "\n"
      ]
     },
     "metadata": {},
     "output_type": "display_data"
    },
    {
     "name": "stderr",
     "output_type": "stream",
     "text": [
      "                                                                                                 \r"
     ]
    },
    {
     "data": {
      "text/html": [
       "<video src=\"media\\jupyter\\ScatterPlot@2024-12-12@19-13-38.mp4\" controls autoplay loop style=\"max-width: 75%;\"  >\n",
       "      Your browser does not support the <code>video</code> element.\n",
       "    </video>"
      ],
      "text/plain": [
       "<IPython.core.display.Video object>"
      ]
     },
     "metadata": {},
     "output_type": "display_data"
    }
   ],
   "source": [
    "%%manim -qm ScatterPlot\n",
    "\n",
    "\n",
    "class ScatterPlot(Scene):\n",
    "    def construct(self):\n",
    "        # Create the axes\n",
    "        axes = Axes(\n",
    "            x_range=[-PI, PI, PI / 2],\n",
    "            y_range=[0, 10, 2],\n",
    "            x_length=8,\n",
    "            y_length=5,\n",
    "            axis_config={\"include_tip\": False},\n",
    "            tips=False\n",
    "        )\n",
    "\n",
    "        # Add custom labels for x-axis\n",
    "        axes.get_x_axis().add_labels({\n",
    "            -PI: MathTex(\"-\\pi\"),\n",
    "            # 0: MathTex(\"Azimuthal angle, \\phi (rad)\"),\n",
    "            PI: MathTex(\"\\pi\")\n",
    "        })\n",
    "\n",
    "        # Add y-axis label at the top\n",
    "        y_label = axes.get_y_axis_label(\"Count\", edge=UP, direction=UP)\n",
    "        x_label = axes.get_x_axis_label(\"\\phi (radians)\", edge=DOWN, direction=DOWN)\n",
    "\n",
    "\n",
    "        # Number of bins and uniform distribution generation\n",
    "        num_bins = 20  # 10 degrees each bin\n",
    "        bin_width = 2 * PI / num_bins\n",
    "\n",
    "        # Generate points for bin counts\n",
    "        points = []\n",
    "        for i in range(num_bins):\n",
    "            phi_bin_center = -PI + (i) * bin_width\n",
    "            count = random.uniform(1.5,2)*np.cos(2/num_bins*PI*i)+6  # random generation of uniform\n",
    "            points.append([phi_bin_center, count])\n",
    "\n",
    "        # Create dots\n",
    "        dots = VGroup()\n",
    "        for point in points:\n",
    "            dot = Dot(\n",
    "                axes.c2p(point[0], point[1]),\n",
    "                radius=0.05,\n",
    "                color=BLUE\n",
    "            )\n",
    "            dots.add(dot)\n",
    "\n",
    "        # Add the axes and labels first\n",
    "        self.add(axes, y_label, x_label)\n",
    "\n",
    "        # Create scatter plot with staggered appearance\n",
    "        self.play(\n",
    "            Create(dots),  # Sequential appearance with small delay\n",
    "            run_time=4,\n",
    "            rate_func=linear\n",
    "        )\n",
    "\n",
    "        self.wait(2)\n"
   ]
  }
 ],
 "metadata": {
  "kernelspec": {
   "display_name": "Python 3",
   "language": "python",
   "name": "python3"
  },
  "language_info": {
   "codemirror_mode": {
    "name": "ipython",
    "version": 3
   },
   "file_extension": ".py",
   "mimetype": "text/x-python",
   "name": "python",
   "nbconvert_exporter": "python",
   "pygments_lexer": "ipython3",
   "version": "3.12.8"
  }
 },
 "nbformat": 4,
 "nbformat_minor": 2
}
